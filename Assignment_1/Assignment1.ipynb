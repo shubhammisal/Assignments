{
 "cells": [
  {
   "cell_type": "code",
   "execution_count": 9,
   "metadata": {
    "id": "2q3-7rhkfIk9"
   },
   "outputs": [],
   "source": [
    "import pandas as pd\n"
   ]
  },
  {
   "cell_type": "code",
   "execution_count": 18,
   "metadata": {
    "id": "CR_N-SWxfPsG"
   },
   "outputs": [],
   "source": [
    "class customer:\n",
    "  '''customer class with Attributes Name,Address,Gender,Age and with methods Payment and Buy'''\n",
    "  def __init__(self,Name,Address,Gender,Age):\n",
    "        self.Name=Name\n",
    "        self.Address=Address\n",
    "        self.Gender=Gender\n",
    "        self.Age=Age\n",
    "        \n",
    "  def Payment(self,Grocery):\n",
    "    total = Grocery.values()\n",
    "    return sum(total)\n",
    "    \n",
    "  def Buy(self,store_name):\n",
    "    sto=store_list.loc[store_list['Name']==store_name]\n",
    "    Groceries=eval(sto.Grocery.item())\n",
    "    store=Store(sto.Name.item(),sto.Address.item(),sto.Type.item(),Groceries)\n",
    "    total_payment=self.Payment(Groceries) \n",
    "    print(\"\\nStore Information : \")\n",
    "    print(sto[[\"Name\",\"Address\",\"Type\"]])\n",
    "    print(\"\\nGrocery List : \\n\")\n",
    "    for key, value in Groceries.items():\n",
    "        print (\"{:<10} {:<10}\".format(key,value))\n",
    "    print(\"\\nTotal Payment : \",total_payment,\" Rs.\")\n",
    "  "
   ]
  },
  {
   "cell_type": "code",
   "execution_count": 19,
   "metadata": {
    "id": "4pMQuEh5gZbn"
   },
   "outputs": [],
   "source": [
    "class Store:\n",
    "  '''Store Class with Data attributes Name,Address,Type,Grocery'''\n",
    "  def __init__(self,Name,Address,Type,Grocery):\n",
    "        self.Name=Name\n",
    "        self.Address=Address\n",
    "        self.Type=Type\n",
    "        self.Grocery=Grocery\n",
    "        \n"
   ]
  },
  {
   "cell_type": "code",
   "execution_count": 20,
   "metadata": {
    "colab": {
     "base_uri": "https://localhost:8080/"
    },
    "id": "c7T9ZMREgqce",
    "outputId": "81c8b339-55fd-4ef1-9f96-bbb7f512820a"
   },
   "outputs": [
    {
     "name": "stdout",
     "output_type": "stream",
     "text": [
      "Id\n",
      "101        Vijay\n",
      "103        Vidya\n",
      "104         Rama\n",
      "105     Ramaraju\n",
      "107       Ramesh\n",
      "108        Javed\n",
      "109         Asha\n",
      "1010        Lata\n",
      "Name: Name, dtype: object\n",
      "Enter Customer Name Vijay\n",
      "        Name Address            Type\n",
      "Id                                  \n",
      "210  Govinda    Pune          Fruits\n",
      "211    Suman    Pune      Vegetables\n",
      "212    Gouri    Pune           Dairy\n",
      "213    Pooja    Pune          Snacks\n",
      "214  Daimond    Pune            Meat\n",
      "215   Pravin    Pune  Bread & Bakery\n",
      "216     Shri    Pune          Baking\n",
      "217   Ismail    Pune   Personal Care\n",
      "218   Sanjay    Pune     Health Care\n",
      "219   Ismail    Pune      Baby Items\n",
      "Enter Store Name from where you want to purchase the products Gouri\n"
     ]
    }
   ],
   "source": [
    "customer_list=[]\n",
    "store_list=[]\n",
    "try:\n",
    "    customer_list=pd.read_csv(\"Customer_data.csv\",index_col=0)        # Reading Customer and Store list Csv files.\n",
    "    store_list=pd.read_csv(\"store_data.csv\",index_col=0)\n",
    "    print(customer_list.Name)\n",
    "    while True:                                     # Accepting Customer Name\n",
    "        customer_name=input(\"Enter Customer Name \")\n",
    "        if(customer_name in list(customer_list.Name)):\n",
    "            break\n",
    "        else:\n",
    "            print(\"Enter the correct Customer Name \")\n",
    "    print(store_list[['Name','Address','Type']])\n",
    "    while True:                                     # Accepting Store Name\n",
    "        store_name=input(\"Enter Store Name from where you want to purchase the products \")\n",
    "        if(store_name in list(store_list.Name)):\n",
    "            break\n",
    "        else:\n",
    "            print(\"Enter the correct Store Name \")\n",
    "    \n",
    "except IOError as e:\n",
    "  print(e)\n"
   ]
  },
  {
   "cell_type": "code",
   "execution_count": 21,
   "metadata": {},
   "outputs": [],
   "source": [
    "cus=customer_list.loc[customer_list['Name']==customer_name]      # Retriving Data of that Customer\n",
    "\n",
    "customer=customer(cus.Name.item(),cus.Address.item(),cus.Gender.item(),cus.Age.item()) # Instantiate customer class.\n"
   ]
  },
  {
   "cell_type": "code",
   "execution_count": 22,
   "metadata": {},
   "outputs": [
    {
     "name": "stdout",
     "output_type": "stream",
     "text": [
      " Customer Information : \n",
      "      Name Address Gender  Age\n",
      "Id                            \n",
      "101  Vijay    Pune   Male   21\n",
      "\n",
      "Store Information : \n",
      "      Name Address   Type\n",
      "Id                       \n",
      "212  Gouri    Pune  Dairy\n",
      "\n",
      "Grocery List : \n",
      "\n",
      "Butter     58        \n",
      "cheese     35        \n",
      "eggs       100       \n",
      "milk       45        \n",
      "\n",
      "Total Payment :  238  Rs.\n"
     ]
    }
   ],
   "source": [
    "print(\" Customer Information : \")               # Printing Customer Information..\n",
    "print(cus)\n",
    "customer.Buy(store_name)                        # Print Store info and Total Payment with Grocery List"
   ]
  },
  {
   "cell_type": "code",
   "execution_count": null,
   "metadata": {},
   "outputs": [],
   "source": []
  }
 ],
 "metadata": {
  "colab": {
   "name": "Assignment1.ipynb",
   "provenance": []
  },
  "kernelspec": {
   "display_name": "Python 3",
   "language": "python",
   "name": "python3"
  },
  "language_info": {
   "codemirror_mode": {
    "name": "ipython",
    "version": 3
   },
   "file_extension": ".py",
   "mimetype": "text/x-python",
   "name": "python",
   "nbconvert_exporter": "python",
   "pygments_lexer": "ipython3",
   "version": "3.8.8"
  }
 },
 "nbformat": 4,
 "nbformat_minor": 1
}
