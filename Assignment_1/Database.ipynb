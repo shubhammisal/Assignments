{
 "cells": [
  {
   "cell_type": "code",
   "execution_count": null,
   "id": "eee8a125",
   "metadata": {},
   "outputs": [],
   "source": [
    "import csv"
   ]
  },
  {
   "cell_type": "code",
   "execution_count": null,
   "id": "7a63841b",
   "metadata": {},
   "outputs": [],
   "source": [
    "csv_columns = ['Id','Name','Address','Gender','Age']\n",
    "dict_data = [\n",
    "{'Id': 101, 'Name': 'Vijay', 'Address': 'Pune','Gender':'Male','Age':21},\n",
    "{'Id': 103, 'Name': 'Vidya', 'Address': 'Mumbai','Gender':'Female','Age':23},\n",
    "{'Id': 104, 'Name': 'Rama', 'Address': 'Ahmednagar','Gender':'Male','Age':28},\n",
    "{'Id': 105, 'Name': 'Ramaraju', 'Address': 'Pune','Gender':'Male','Age':30},\n",
    "{'Id': 107, 'Name': 'Ramesh', 'Address': 'Pune','Gender':'Male','Age':21},\n",
    "{'Id': 108, 'Name': 'Javed', 'Address': 'Mumbai','Gender':'Male','Age':22},\n",
    "{'Id': 109, 'Name': 'Asha', 'Address': 'Karjat','Gender':'Female','Age':25},\n",
    "{'Id': 1010, 'Name': 'Lata', 'Address': 'Baramati','Gender':'Female','Age':31},\n",
    "]\n",
    "csv_file = \"Customer_data.csv\"\n",
    "try:\n",
    "    with open(csv_file, 'w') as csvfile:\n",
    "        writer = csv.DictWriter(csvfile, fieldnames=csv_columns)\n",
    "        writer.writeheader()\n",
    "        for data in dict_data:\n",
    "            writer.writerow(data)\n",
    "except IOError:\n",
    "    print(\"I/O error\")"
   ]
  },
  {
   "cell_type": "code",
   "execution_count": 4,
   "id": "28f53100",
   "metadata": {},
   "outputs": [],
   "source": [
    "d=[[\"Govinda\",\"Pune\",\"Fruits\",{\"Apples\":200, \"bananas\":50,\"grapes\":140,\"oranges\":80, \"strawberries\":250}],\n",
    "  [\"Suman\",\"Pune\",\"Vegetables\",{\"Potatoes\":40, \"onions\":60, \"carrots\":75, \"salad greens\":35, \"broccoli\":30}],\n",
    "  [\"Gouri\",\"Pune\",\"Dairy\",{\"Butter\":58,\"cheese\":35,\"eggs\":100, \"milk\":45}],\n",
    "  [\"Pooja\",\"Pune\",\"Snacks\",{\"Chips\":40,\"popcorn\":20, \"crackers\":50, \"nuts\":30}],\n",
    "  [\"Daimond\",\"Pune\",\"Meat\",{\"Chicken\":280,\"pork\":300}],\n",
    "  [\"Pravin\",\"Pune\",\"Bread & Bakery\",{\"Bread\":40,\"tortillas\":45, \"pies\":80, \"muffins\":90}],\n",
    "   [\"Shri\",\"Pune\",\"Baking\",{\"Flour\":34,\"powdered sugar\":45,\"baking powder\":12}],\n",
    "  [\"Ismail\",\"Pune\",\"Personal Care\",{\"Shampoo\":80, \"conditioner\":40, \"deodorant\":180, \"toothpaste\":10, \"dental floss\":160}],\n",
    "   \n",
    "    [\"Sanjay\",\"Pune\",\"Health Care\",{ \"Saline\":250, \"band-aid\":190, \"cleaning alcohol\":230}],\n",
    "  [\"Ismail\",\"Pune\",\"Baby Items\",{\"Baby food\":600, \"diapers\":200, \"wet wipes\":90, \"lotion\":300}]\n",
    "  ]\n",
    "dh=[\"Name\",\"Address\",\"Type\",\"Grocery\"]\n",
    "with open('dict.csv', 'w',newline=\"\") as csv_file:  \n",
    "    writer = csv.writer(csv_file)\n",
    "    writer.writerows(d)"
   ]
  },
  {
   "cell_type": "code",
   "execution_count": 4,
   "id": "317e1ac3",
   "metadata": {},
   "outputs": [],
   "source": [
    "import pandas as pd\n",
    "ds=pd.read_csv(\"store_data.csv\",index_col=0)"
   ]
  },
  {
   "cell_type": "code",
   "execution_count": 7,
   "id": "950c535b",
   "metadata": {},
   "outputs": [
    {
     "name": "stdout",
     "output_type": "stream",
     "text": [
      "        Name                                            Grocery\n",
      "Id                                                             \n",
      "210  Govinda  {'Apples': 200, 'bananas': 50, 'grapes': 140, ...\n",
      "211    Suman  {'Potatoes': 40, 'onions': 60, 'carrots': 75, ...\n",
      "212    Gouri  {'Butter': 58, 'cheese': 35, 'eggs': 100, 'mil...\n",
      "213    Pooja  {'Chips': 40, 'popcorn': 20, 'crackers': 50, '...\n",
      "214  Daimond                      {'Chicken': 280, 'pork': 300}\n",
      "215   Pravin  {'Bread': 40, 'tortillas': 45, 'pies': 80, 'mu...\n",
      "216     Shri  {'Flour': 34, 'powdered sugar': 45, 'baking po...\n",
      "217   Ismail  {'Shampoo': 80, 'conditioner': 40, 'deodorant'...\n",
      "218   Sanjay  {'Saline': 250, 'band-aid': 190, 'cleaning alc...\n",
      "219   Ismail  {'Baby food': 600, 'diapers': 200, 'wet wipes'...\n"
     ]
    }
   ],
   "source": [
    "print(ds[['Name','Grocery']])"
   ]
  },
  {
   "cell_type": "code",
   "execution_count": 3,
   "id": "d1bdf5d0",
   "metadata": {},
   "outputs": [],
   "source": [
    "import pandas as pd\n",
    "cs=pd.read_csv(\"customer_data.csv\")"
   ]
  },
  {
   "cell_type": "code",
   "execution_count": 4,
   "id": "a2b92f19",
   "metadata": {},
   "outputs": [
    {
     "name": "stdout",
     "output_type": "stream",
     "text": [
      "     Id      Name     Address  Gender  Age\n",
      "0   101     Vijay        Pune    Male   21\n",
      "1   103     Vidya      Mumbai  Female   23\n",
      "2   104      Rama  Ahmednagar    Male   28\n",
      "3   105  Ramaraju        Pune    Male   30\n",
      "4   107    Ramesh        Pune    Male   21\n",
      "5   108     Javed      Mumbai    Male   22\n",
      "6   109      Asha      Karjat  Female   25\n",
      "7  1010      Lata    Baramati  Female   31\n"
     ]
    }
   ],
   "source": [
    "print(cs)"
   ]
  },
  {
   "cell_type": "code",
   "execution_count": 8,
   "id": "c8e64b5a",
   "metadata": {},
   "outputs": [
    {
     "data": {
      "text/plain": [
       "str"
      ]
     },
     "execution_count": 8,
     "metadata": {},
     "output_type": "execute_result"
    }
   ],
   "source": [
    "type(ds.Grocery[3])"
   ]
  },
  {
   "cell_type": "code",
   "execution_count": null,
   "id": "25a44cff",
   "metadata": {},
   "outputs": [],
   "source": []
  }
 ],
 "metadata": {
  "kernelspec": {
   "display_name": "Python 3",
   "language": "python",
   "name": "python3"
  },
  "language_info": {
   "codemirror_mode": {
    "name": "ipython",
    "version": 3
   },
   "file_extension": ".py",
   "mimetype": "text/x-python",
   "name": "python",
   "nbconvert_exporter": "python",
   "pygments_lexer": "ipython3",
   "version": "3.8.8"
  }
 },
 "nbformat": 4,
 "nbformat_minor": 5
}
